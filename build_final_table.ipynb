{
 "cells": [
  {
   "cell_type": "code",
   "execution_count": 1,
   "metadata": {},
   "outputs": [],
   "source": [
    "from uszipcode import SearchEngine, SimpleZipcode, ComprehensiveZipcode\n",
    "import pandas as pd\n",
    "from sklearn.neighbors import NearestNeighbors\n",
    "import numpy as np\n",
    "import os"
   ]
  },
  {
   "cell_type": "code",
   "execution_count": 3,
   "metadata": {},
   "outputs": [
    {
     "name": "stdout",
     "output_type": "stream",
     "text": [
      "(33788, 18)\n",
      "2398\n",
      "31390\n"
     ]
    }
   ],
   "source": [
    "df = pd.read_csv(r\"C:\\Users\\email\\OneDrive\\Documents\\Python\\zip_codes\\uszips.csv\", dtype='string')\n",
    "se = SearchEngine()\n",
    "zip_df = []\n",
    "bad_zip = []\n",
    "for i in df[\"zip\"].dropna().unique():\n",
    "    row = [i]\n",
    "    x = se.by_zipcode(i) # x is a SimpleZipCode object\n",
    "    # appending zip code information:\n",
    "    # geography:\n",
    "    row.append(x.lat)\n",
    "    row.append(x.lng)\n",
    "    row.append(x.bounds_north)\n",
    "    row.append(x.bounds_south)\n",
    "    row.append(x.bounds_east)\n",
    "    row.append(x.bounds_west)\n",
    "    row.append(x.radius_in_miles)\n",
    "    row.append(x.land_area_in_sqmi)\n",
    "    row.append(x.water_area_in_sqmi)\n",
    "    # population:\n",
    "    row.append(x.population)\n",
    "    row.append(x.population_density)\n",
    "    # housing:\n",
    "    row.append(x.housing_units)\n",
    "    row.append(x.occupied_housing_units)\n",
    "    row.append(x.median_home_value)\n",
    "    row.append(x.median_household_income)\n",
    "\n",
    "    skip = False\n",
    "    for j in row:\n",
    "        if j is None:\n",
    "            bad_zip.append(row)\n",
    "            skip = True\n",
    "            break\n",
    "    if not skip: \n",
    "        zip_df.append(row)\n",
    "\n",
    "print(df.shape)\n",
    "print(len(bad_zip))\n",
    "print(len(zip_df))"
   ]
  },
  {
   "cell_type": "code",
   "execution_count": 5,
   "metadata": {},
   "outputs": [],
   "source": [
    "pd.DataFrame(zip_df, columns=[\n",
    "        \"ZipCode\",      \"Latitude\",             \"Longitude\",       \"BoundNorth\",\n",
    "        \"BoundSouth\",   \"BoundEast\",            \"BoundWest\",       \"RadiusInMiles\", \n",
    "        \"LandArea\",     \"WaterArea\",            \"Population\",      \"PopulationDensity\", \n",
    "        \"HousingUnits\", \"OccupiedHousingUnits\", \"MedianHomeValue\", \"MedianHouseholdIncome\" \n",
    "        ]).to_csv(\"zip_reference.csv\")"
   ]
  },
  {
   "cell_type": "code",
   "execution_count": 34,
   "metadata": {},
   "outputs": [
    {
     "data": {
      "text/plain": [
       "16"
      ]
     },
     "execution_count": 34,
     "metadata": {},
     "output_type": "execute_result"
    }
   ],
   "source": [
    "sample"
   ]
  },
  {
   "cell_type": "code",
   "execution_count": 8,
   "metadata": {},
   "outputs": [],
   "source": [
    "zip_df = pd.DataFrame(zip_df)\n",
    "sample = bad_zip[0]\n",
    "nbrs = NearestNeighbors(n_neighbors=1, algorithm='ball_tree').fit(zip_df.iloc[:,1:3])\n",
    "distances, indices = nbrs.kneighbors(np.reshape(sample[1:3], (1, -1)))"
   ]
  },
  {
   "cell_type": "code",
   "execution_count": 9,
   "metadata": {},
   "outputs": [
    {
     "name": "stdout",
     "output_type": "stream",
     "text": [
      "[[15.36635285]]\n",
      "[[9972]]\n"
     ]
    }
   ],
   "source": [
    "print(distances)\n",
    "print(indices)"
   ]
  },
  {
   "cell_type": "code",
   "execution_count": 10,
   "metadata": {},
   "outputs": [
    {
     "data": {
      "text/plain": [
       "9972"
      ]
     },
     "execution_count": 10,
     "metadata": {},
     "output_type": "execute_result"
    }
   ],
   "source": [
    "indices[0,0]"
   ]
  },
  {
   "cell_type": "code",
   "execution_count": 11,
   "metadata": {},
   "outputs": [
    {
     "data": {
      "text/plain": [
       "['00601',\n",
       " 18.16,\n",
       " -66.72,\n",
       " 25.354328,\n",
       " 25.034142,\n",
       " -80.235026,\n",
       " -80.51148,\n",
       " 12.0,\n",
       " 33.82,\n",
       " 87.38,\n",
       " 11612,\n",
       " 343.0,\n",
       " 10113,\n",
       " 5240,\n",
       " 357400,\n",
       " 55944]"
      ]
     },
     "execution_count": 11,
     "metadata": {},
     "output_type": "execute_result"
    }
   ],
   "source": [
    "sample[3:] = zip_df.iloc[indices[0,0],3:]\n",
    "sample"
   ]
  },
  {
   "cell_type": "code",
   "execution_count": 12,
   "metadata": {},
   "outputs": [
    {
     "data": {
      "text/plain": [
       "16"
      ]
     },
     "execution_count": 12,
     "metadata": {},
     "output_type": "execute_result"
    }
   ],
   "source": [
    "len(bad_zip[0])"
   ]
  },
  {
   "cell_type": "code",
   "execution_count": 13,
   "metadata": {},
   "outputs": [],
   "source": [
    "nbrs = NearestNeighbors(n_neighbors=1, algorithm='ball_tree').fit(zip_df.iloc[:,1:3])\n",
    "for i in range(len(bad_zip)):\n",
    "    distances, indices = nbrs.kneighbors(np.reshape(bad_zip[i][1:3], (1, -1)))\n",
    "    bad_zip[i][3:] = zip_df.iloc[indices[0,0],3:]\n",
    "pd.DataFrame(bad_zip).to_csv(\"bad_zip_fixed.csv\")\n",
    "    "
   ]
  },
  {
   "cell_type": "code",
   "execution_count": 25,
   "metadata": {},
   "outputs": [
    {
     "data": {
      "text/plain": [
       "0         43606\n",
       "1         41.66\n",
       "2        -83.58\n",
       "3     41.691284\n",
       "4     41.653289\n",
       "5    -83.560792\n",
       "6    -83.646044\n",
       "7           3.0\n",
       "8          6.52\n",
       "9           0.0\n",
       "10        26429\n",
       "11       4053.0\n",
       "12        11822\n",
       "13        10314\n",
       "14       123900\n",
       "15        40306\n",
       "Name: 13125, dtype: object"
      ]
     },
     "execution_count": 25,
     "metadata": {},
     "output_type": "execute_result"
    }
   ],
   "source": [
    "x = se.by_zipcode('43697')\n",
    "art_row = ['43697', x.lat, x.lng]\n",
    "distances, indices = nbrs.kneighbors(np.reshape(art_row[1:], (1, -1)))\n",
    "zip_df.iloc[indices[0,0],:]\n",
    "pd.DataFrame(zip_df.iloc[indices[0,0],:], columns=[\n",
    "        \"ZipCode\",      \"Latitude\",             \"Longitude\",       \"BoundNorth\",\n",
    "        \"BoundSouth\",   \"BoundEast\",            \"BoundWest\",       \"RadiusInMiles\", \n",
    "        \"LandArea\",     \"WaterArea\",            \"Population\",      \"PopulationDensity\", \n",
    "        \"HousingUnits\", \"OccupiedHousingUnits\", \"MedianHomeValue\", \"MedianHouseholdIncome\" \n",
    "        ])\n",
    "# zip_df.iloc[indices[0,0],:]"
   ]
  },
  {
   "cell_type": "code",
   "execution_count": 23,
   "metadata": {},
   "outputs": [
    {
     "data": {
      "text/plain": [
       "0         43606\n",
       "1         41.66\n",
       "2        -83.58\n",
       "3     41.691284\n",
       "4     41.653289\n",
       "5    -83.560792\n",
       "6    -83.646044\n",
       "7           3.0\n",
       "8          6.52\n",
       "9           0.0\n",
       "10        26429\n",
       "11       4053.0\n",
       "12        11822\n",
       "13        10314\n",
       "14       123900\n",
       "15        40306\n",
       "Name: 13125, dtype: object"
      ]
     },
     "execution_count": 23,
     "metadata": {},
     "output_type": "execute_result"
    }
   ],
   "source": [
    "zip_df.iloc[indices[0,0],:]"
   ]
  }
 ],
 "metadata": {
  "kernelspec": {
   "display_name": "Python 3.9.12 ('zip_env')",
   "language": "python",
   "name": "python3"
  },
  "language_info": {
   "codemirror_mode": {
    "name": "ipython",
    "version": 3
   },
   "file_extension": ".py",
   "mimetype": "text/x-python",
   "name": "python",
   "nbconvert_exporter": "python",
   "pygments_lexer": "ipython3",
   "version": "3.9.12"
  },
  "orig_nbformat": 4,
  "vscode": {
   "interpreter": {
    "hash": "6966fa130c6065fa3294a0f8ddeed3c17496ece1d0fca35f4ca80880b5331fd9"
   }
  }
 },
 "nbformat": 4,
 "nbformat_minor": 2
}
